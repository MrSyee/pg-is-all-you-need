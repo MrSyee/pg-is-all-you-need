{
  "cells": [
    {
      "cell_type": "markdown",
      "metadata": {
        "id": "j9LNaRxZgxPI"
      },
      "source": [
        "## Configuration for Colab"
      ]
    },
    {
      "cell_type": "code",
      "execution_count": 1,
      "metadata": {
        "colab": {
          "base_uri": "https://localhost:8080/"
        },
        "id": "G7UXG9jmgxPJ",
        "outputId": "ef97bdd9-1450-49e2-92c9-6d5bece3dcbe"
      },
      "outputs": [
        {
          "output_type": "stream",
          "name": "stdout",
          "text": [
            "Collecting gymnasium==1.0.0\n",
            "  Downloading gymnasium-1.0.0-py3-none-any.whl.metadata (9.5 kB)\n",
            "Requirement already satisfied: numpy>=1.21.0 in /usr/local/lib/python3.10/dist-packages (from gymnasium==1.0.0) (1.26.4)\n",
            "Requirement already satisfied: cloudpickle>=1.2.0 in /usr/local/lib/python3.10/dist-packages (from gymnasium==1.0.0) (3.1.0)\n",
            "Requirement already satisfied: typing-extensions>=4.3.0 in /usr/local/lib/python3.10/dist-packages (from gymnasium==1.0.0) (4.12.2)\n",
            "Collecting farama-notifications>=0.0.1 (from gymnasium==1.0.0)\n",
            "  Downloading Farama_Notifications-0.0.4-py3-none-any.whl.metadata (558 bytes)\n",
            "Downloading gymnasium-1.0.0-py3-none-any.whl (958 kB)\n",
            "\u001b[2K   \u001b[90m━━━━━━━━━━━━━━━━━━━━━━━━━━━━━━━━━━━━━━━━\u001b[0m \u001b[32m958.1/958.1 kB\u001b[0m \u001b[31m11.8 MB/s\u001b[0m eta \u001b[36m0:00:00\u001b[0m\n",
            "\u001b[?25hDownloading Farama_Notifications-0.0.4-py3-none-any.whl (2.5 kB)\n",
            "Installing collected packages: farama-notifications, gymnasium\n",
            "Successfully installed farama-notifications-0.0.4 gymnasium-1.0.0\n"
          ]
        }
      ],
      "source": [
        "import sys\n",
        "\n",
        "IN_COLAB = \"google.colab\" in sys.modules\n",
        "\n",
        "if IN_COLAB:\n",
        "    !pip install gymnasium==1.0.0"
      ]
    },
    {
      "cell_type": "markdown",
      "metadata": {
        "id": "7DenbzNrgxPJ"
      },
      "source": [
        "# 07. Behavior Cloning (without HER)\n",
        "\n",
        "[A. Nair et al., \"Overcoming Exploration in Reinforcement Learning with Demonstrations.\" arXiv preprint arXiv:1709.10089, 2017.](https://arxiv.org/pdf/1709.10089.pdf)\n",
        "\n",
        "Exploration in environments with sparse rewards has been a persistent problem in reinforcement learning. Many tasks are natural to  specify with a sparse reward, and manually shaping a reward function can result in suboptimal performance. However, finding a non-zero reward is exponentially more difficult with increasing task horizon or action dimensionality. In  this  paper, the authors use demonstrations to overcome the exploration problem and successfully learn to perform long-horizon, multi-step tasks with continuous control such as stacking blocks with a robot arm.\n",
        "\n",
        "### DDPG\n",
        "For learning in high-dimentional and continous action spaces, the authors of DDPG combine the actor-critic approach with insights from the recent success of DQN. Deep DPG(DDPG) is based on the deterministic policy gradient(DPG) algorithm ([Silver et al., 2014](http://proceedings.mlr.press/v32/silver14.pdf)). Please see *03.DDPG.ipynb* for detailed description of DDPG.\n",
        "\n",
        "### Demonstration Buffer\n",
        "It maintains a second replay buffer $R_D$ where we store our the demonstration data in the same format as the original replay buffer $R$. In each minibatch, we draw extra $N_D$ examples from $R_D$ to use as off-policy replay data for the update step. These examples are included in both the actor and critic update.\n",
        "\n",
        "### Behavior Cloning Loss\n",
        "It computes only on the demonstration examples for training the actor.\n",
        "$$\n",
        "L_{BC} = \\underset{i=1}{\\overset{N_D}\\sum} \\lVert \\pi (s_i | \\theta_\\pi) - a_i \\rVert^2\n",
        "$$\n",
        "This loss is a standard loss in imitation learning, but this paper shows that using it as an auxiliary loss for RL improves learning significantly. The gradient applied to the actor parameters $\\theta_\\pi$ is:\n",
        "$$\n",
        "L_A = - \\lambda_1 \\nabla_{\\theta_{\\pi}}J + \\lambda_2 \\nabla_{\\theta_{\\pi}} L_{BC}\n",
        "$$\n",
        "Two parameters called  $\\lambda_1$ ,  $\\lambda_2$  are used to weight the contributions.\n",
        "\n",
        "### Q-Filter\n",
        "Using the above loss prevents the learned policy from improving significantly beyond the demonstration policy, as the actor is always tied back to the demonstrations. To avoid this problem, the authors apply the behavior cloning loss only to states where the critic $Q(s,a)$ determines that action of the demonstration is better than actor's action:\n",
        "$$\n",
        "L_{BC} = \\underset{i=1}{\\overset{N_D}\\sum}\\lVert \\pi (s_i | \\theta_\\pi) - a_i \\rVert^2 \\mathbb{1}_{Q(s_i, a_i) > Q(s_i, \\pi(s_i))}\n",
        "$$\n",
        "\n",
        "### Hindsight Experience Replay (HER)\n",
        "The key insight of HER is that even in failed rollouts where no reward was obtained, the agent can transform them into successful ones by assuming that a state it saw in the rollout was the actual goal. It can be used with any off-policy RL algorithm assuming that for every state we can find a goal corresponding to this state.\n",
        "However, it needs parametrized goals setting, which can be sampled the goal $g$ at the beginning of every episode, so **we don't implement it**. Please see [this paper](https://arxiv.org/pdf/1707.01495) for detailed contents."
      ]
    },
    {
      "cell_type": "markdown",
      "metadata": {
        "id": "qyQCjF7mgxPK"
      },
      "source": [
        "## Import modules"
      ]
    },
    {
      "cell_type": "code",
      "execution_count": 2,
      "metadata": {
        "colab": {
          "base_uri": "https://localhost:8080/"
        },
        "id": "J7c3xdJwgxPK",
        "outputId": "a5818b38-8427-41be-dde1-0c4612fff5c9"
      },
      "outputs": [
        {
          "output_type": "stream",
          "name": "stdout",
          "text": [
            "--2024-12-30 11:29:25--  https://raw.githubusercontent.com/mrsyee/pg-is-all-you-need/master/demo.pkl\n",
            "Resolving raw.githubusercontent.com (raw.githubusercontent.com)... 185.199.108.133, 185.199.109.133, 185.199.110.133, ...\n",
            "Connecting to raw.githubusercontent.com (raw.githubusercontent.com)|185.199.108.133|:443... connected.\n",
            "HTTP request sent, awaiting response... 200 OK\n",
            "Length: 179797 (176K) [application/octet-stream]\n",
            "Saving to: ‘demo.pkl’\n",
            "\n",
            "\rdemo.pkl              0%[                    ]       0  --.-KB/s               \rdemo.pkl            100%[===================>] 175.58K  --.-KB/s    in 0.03s   \n",
            "\n",
            "2024-12-30 11:29:25 (5.25 MB/s) - ‘demo.pkl’ saved [179797/179797]\n",
            "\n"
          ]
        }
      ],
      "source": [
        "import os\n",
        "import copy\n",
        "import random\n",
        "from collections import deque\n",
        "from typing import Deque, Dict, List, Tuple\n",
        "\n",
        "import gymnasium as gym\n",
        "import matplotlib.pyplot as plt\n",
        "import numpy as np\n",
        "import torch\n",
        "import torch.nn as nn\n",
        "import torch.nn.functional as F\n",
        "import torch.optim as optim\n",
        "\n",
        "from IPython.display import clear_output\n",
        "\n",
        "if IN_COLAB and not os.path.exists(\"demo.pkl\"):\n",
        "    # download demo.pkl\n",
        "    !wget https://raw.githubusercontent.com/mrsyee/pg-is-all-you-need/master/demo.pkl"
      ]
    },
    {
      "cell_type": "markdown",
      "metadata": {
        "id": "-TWK5lT1gxPK"
      },
      "source": [
        "## Replay buffer\n",
        "Typically, people implement replay buffers with one of the following three data structures:\n",
        "\n",
        "- collections.deque\n",
        "- list\n",
        "- numpy.ndarray\n",
        "\n",
        "**deque** is very easy to handle once you initialize its maximum length (e.g. deque(maxlen=buffer_size)). However, the indexing operation of deque gets terribly slow as it grows up because it is [internally doubly linked list](https://wiki.python.org/moin/TimeComplexity#collections.deque). On the other hands, **list** is an array, so it is relatively faster than deque when you sample batches at every step. Its amortized cost of Get item is [O(1)](https://wiki.python.org/moin/TimeComplexity#list).\n",
        "\n",
        "Last but not least, let's see **numpy.ndarray**. numpy.ndarray is even faster than list due to the fact that it is [a homogeneous array of fixed-size items](https://docs.scipy.org/doc/numpy/reference/generated/numpy.ndarray.html#numpy.ndarray), so you can get the benefits of [locality of reference](https://en.wikipedia.org/wiki/Locality_of_reference), . Whereas list is an array of pointers to objects, even when all of them are of the same type.\n",
        "\n",
        "Here, we are going to implement a replay buffer using numpy.ndarray.\n",
        "\n",
        "In addition, we add `extend` method to store multi transitions like demonstration.\n",
        "\n",
        "Reference:\n",
        "- [OpenAI spinning-up](https://github.com/openai/spinningup/blob/master/spinup/algos/sac/sac.py#L10)\n",
        "- [rainbow-is-all-you-need](https://render.githubusercontent.com/view/ipynb?commit=032d11277cf2436853478a69ca5a4aba03202598&enc_url=68747470733a2f2f7261772e67697468756275736572636f6e74656e742e636f6d2f437572742d5061726b2f7261696e626f772d69732d616c6c2d796f752d6e6565642f303332643131323737636632343336383533343738613639636135613461626130333230323539382f30312e64716e2e6970796e62&nwo=Curt-Park%2Frainbow-is-all-you-need&path=01.dqn.ipynb&repository_id=191133946&repository_type=Repository#Replay-buffer)"
      ]
    },
    {
      "cell_type": "code",
      "execution_count": 3,
      "metadata": {
        "id": "tTFyc75_gxPK"
      },
      "outputs": [],
      "source": [
        "class ReplayBuffer:\n",
        "    \"\"\"A simple numpy replay buffer.\"\"\"\n",
        "\n",
        "    def __init__(self, obs_dim: int, act_dim: int, size: int, batch_size: int = 32):\n",
        "        \"\"\"Initialize.\"\"\"\n",
        "        self.obs_buf = np.zeros([size, obs_dim], dtype=np.float32)\n",
        "        self.next_obs_buf = np.zeros([size, obs_dim], dtype=np.float32)\n",
        "        self.acts_buf = np.zeros([size, act_dim], dtype=np.float32)\n",
        "        self.rews_buf = np.zeros([size], dtype=np.float32)\n",
        "        self.done_buf = np.zeros([size], dtype=np.float32)\n",
        "        self.max_size, self.batch_size = size, batch_size\n",
        "        self.ptr, self.size = 0, 0\n",
        "\n",
        "    def store(\n",
        "        self,\n",
        "        obs: np.ndarray,\n",
        "        act: np.ndarray,\n",
        "        rew: float,\n",
        "        next_obs: np.ndarray,\n",
        "        done: bool,\n",
        "    ):\n",
        "        \"\"\"Store the transition in buffer.\"\"\"\n",
        "        self.obs_buf[self.ptr] = obs\n",
        "        self.next_obs_buf[self.ptr] = next_obs\n",
        "        self.acts_buf[self.ptr] = act\n",
        "        self.rews_buf[self.ptr] = rew\n",
        "        self.done_buf[self.ptr] = done\n",
        "        self.ptr = (self.ptr + 1) % self.max_size\n",
        "        self.size = min(self.size + 1, self.max_size)\n",
        "\n",
        "    def extend(\n",
        "        self,\n",
        "        transitions: List[Tuple],\n",
        "    ):\n",
        "        \"\"\"Store the multi transitions in buffer.\"\"\"\n",
        "        for transition in transitions:\n",
        "            self.store(*transition)\n",
        "\n",
        "    def sample_batch(self) -> Dict[str, np.ndarray]:\n",
        "        \"\"\"Randomly sample a batch of experiences from memory.\"\"\"\n",
        "        idxs = np.random.choice(self.size, size=self.batch_size, replace=False)\n",
        "        return dict(\n",
        "            obs=self.obs_buf[idxs],\n",
        "            next_obs=self.next_obs_buf[idxs],\n",
        "            acts=self.acts_buf[idxs],\n",
        "            rews=self.rews_buf[idxs],\n",
        "            done=self.done_buf[idxs],\n",
        "        )\n",
        "\n",
        "    def __len__(self) -> int:\n",
        "        return self.size"
      ]
    },
    {
      "cell_type": "markdown",
      "metadata": {
        "id": "fUixJS5AgxPL"
      },
      "source": [
        "## OU Noise\n",
        "*Ornstein-Uhlenbeck* process generates temporally correlated exploration, and it effectively copes with physical control problems of inertia.\n",
        "\n",
        "$$\n",
        "dx_t = \\theta(\\mu - x_t) dt + \\sigma dW_t\n",
        "$$\n",
        "\n",
        "Reference:\n",
        "- [Udacity github](https://github.com/udacity/deep-reinforcement-learning/blob/master/ddpg-pendulum/ddpg_agent.py)\n",
        "- [Wiki](https://en.wikipedia.org/wiki/Ornstein%E2%80%93Uhlenbeck_process)"
      ]
    },
    {
      "cell_type": "code",
      "execution_count": 4,
      "metadata": {
        "id": "mRD35YqygxPL"
      },
      "outputs": [],
      "source": [
        "class OUNoise:\n",
        "    \"\"\"Ornstein-Uhlenbeck process.\n",
        "    Taken from Udacity deep-reinforcement-learning github repository:\n",
        "    https://github.com/udacity/deep-reinforcement-learning/blob/master/\n",
        "    ddpg-pendulum/ddpg_agent.py\n",
        "    \"\"\"\n",
        "\n",
        "    def __init__(\n",
        "        self,\n",
        "        size: int,\n",
        "        mu: float = 0.0,\n",
        "        theta: float = 0.15,\n",
        "        sigma: float = 0.2,\n",
        "    ):\n",
        "        \"\"\"Initialize parameters and noise process.\"\"\"\n",
        "        self.state = np.float64(0.0)\n",
        "        self.mu = mu * np.ones(size)\n",
        "        self.theta = theta\n",
        "        self.sigma = sigma\n",
        "        self.reset()\n",
        "\n",
        "    def reset(self):\n",
        "        \"\"\"Reset the internal state (= noise) to mean (mu).\"\"\"\n",
        "        self.state = copy.copy(self.mu)\n",
        "\n",
        "    def sample(self) -> np.ndarray:\n",
        "        \"\"\"Update internal state and return it as a noise sample.\"\"\"\n",
        "        x = self.state\n",
        "        dx = self.theta * (self.mu - x) + self.sigma * np.array(\n",
        "            [random.random() for _ in range(len(x))]\n",
        "        )\n",
        "        self.state = x + dx\n",
        "        return self.state"
      ]
    },
    {
      "cell_type": "markdown",
      "metadata": {
        "id": "ngykpdBkgxPL"
      },
      "source": [
        "## Network\n",
        "We are going to use two separated networks for actor and critic. The actor network has three fully connected layers and three non-linearity functions, *ReLU* for hidden layers and *tanh* for the output layer. On the other hand, the critic network has three fully connected layers, but it used two activation functions for hidden layers *ReLU*. Plus, its input sizes of critic network are sum of state sizes and action sizes. One thing to note is that we initialize the final layer's weights and biases so that they are *uniformly distributed.*"
      ]
    },
    {
      "cell_type": "code",
      "execution_count": 5,
      "metadata": {
        "id": "0nS44hiTgxPL"
      },
      "outputs": [],
      "source": [
        "class Actor(nn.Module):\n",
        "    def __init__(\n",
        "        self,\n",
        "        in_dim: int,\n",
        "        out_dim: int,\n",
        "        init_w: float = 3e-3,\n",
        "    ):\n",
        "        \"\"\"Initialize.\"\"\"\n",
        "        super(Actor, self).__init__()\n",
        "\n",
        "        self.hidden1 = nn.Linear(in_dim, 128)\n",
        "        self.hidden2 = nn.Linear(128, 128)\n",
        "        self.out = nn.Linear(128, out_dim)\n",
        "\n",
        "        self.out.weight.data.uniform_(-init_w, init_w)\n",
        "        self.out.bias.data.uniform_(-init_w, init_w)\n",
        "\n",
        "    def forward(self, state: torch.Tensor) -> torch.Tensor:\n",
        "        \"\"\"Forward method implementation.\"\"\"\n",
        "        x = F.relu(self.hidden1(state))\n",
        "        x = F.relu(self.hidden2(x))\n",
        "        action = self.out(x).tanh()\n",
        "\n",
        "        return action\n",
        "\n",
        "\n",
        "class Critic(nn.Module):\n",
        "    def __init__(\n",
        "        self,\n",
        "        in_dim: int,\n",
        "        init_w: float = 3e-3,\n",
        "    ):\n",
        "        \"\"\"Initialize.\"\"\"\n",
        "        super(Critic, self).__init__()\n",
        "\n",
        "        self.hidden1 = nn.Linear(in_dim, 128)\n",
        "        self.hidden2 = nn.Linear(128, 128)\n",
        "        self.out = nn.Linear(128, 1)\n",
        "\n",
        "        self.out.weight.data.uniform_(-init_w, init_w)\n",
        "        self.out.bias.data.uniform_(-init_w, init_w)\n",
        "\n",
        "    def forward(self, state: torch.Tensor, action: torch.Tensor) -> torch.Tensor:\n",
        "        \"\"\"Forward method implementation.\"\"\"\n",
        "        x = torch.cat((state, action), dim=-1)\n",
        "        x = F.relu(self.hidden1(x))\n",
        "        x = F.relu(self.hidden2(x))\n",
        "        value = self.out(x)\n",
        "\n",
        "        return value"
      ]
    },
    {
      "cell_type": "markdown",
      "metadata": {
        "id": "4BOWfTozgxPL"
      },
      "source": [
        "## BC Agent\n",
        "Here is a summary of BCAgent class.\n",
        "\n",
        "| Method           | Note                                                 |\n",
        "|---               |---                                                  |\n",
        "|select_action     | select an action from the input state.               |\n",
        "|step              | take an action and return the response of the env.   |\n",
        "|update_model      | update the model by gradient descent.                |\n",
        "|train             | train the agent during num_frames.                   |\n",
        "|test              | test the agent (1 episode).                          |\n",
        "|\\_plot              | plot the training progresses.                        |\n",
        "|\\_target_soft_update| soft update from the local model to the target model.|"
      ]
    },
    {
      "cell_type": "code",
      "execution_count": 33,
      "metadata": {
        "id": "qkKmQNBBgxPL"
      },
      "outputs": [],
      "source": [
        "class BCAgent:\n",
        "    \"\"\"BCAgent interacting with environment.\n",
        "\n",
        "    Attribute:\n",
        "        env (gym.Env): openAI Gym environment\n",
        "        actor (nn.Module): target actor model to select actions\n",
        "        actor_target (nn.Module): actor model to predict next actions\n",
        "        actor_optimizer (Optimizer): optimizer for training actor\n",
        "        critic (nn.Module): critic model to predict state values\n",
        "        critic_target (nn.Module): target critic model to predict state values\n",
        "        critic_optimizer (Optimizer): optimizer for training critic\n",
        "        memory (ReplayBuffer): replay memory to store transitions\n",
        "        demo_memory (ReplayBuffer): replay memory for demonstration\n",
        "        batch_size (int): batch size for sampling\n",
        "        gamma (float): discount factor\n",
        "        tau (float): parameter for soft target update\n",
        "        initial_random_steps (int): initial random action steps\n",
        "        lambda1 (float): weight for policy gradient loss\n",
        "        lambda2 (float): weight for behavior cloning loss\n",
        "        noise (OUNoise): noise generator for exploration\n",
        "        device (torch.device): cpu / gpu\n",
        "        transition (list): temporory storage for the recent transition\n",
        "        total_step (int): total step numbers\n",
        "        is_test (bool): flag to show the current mode (train / test)\n",
        "        seed (int): random seed\n",
        "    \"\"\"\n",
        "\n",
        "    def __init__(\n",
        "        self,\n",
        "        env: gym.Env,\n",
        "        memory_size: int,\n",
        "        batch_size: int,\n",
        "        demo_batch_size: int,\n",
        "        ou_noise_theta: float,\n",
        "        ou_noise_sigma: float,\n",
        "        demo: list,\n",
        "        gamma: float = 0.99,\n",
        "        tau: float = 5e-3,\n",
        "        initial_random_steps: int = 1e4,\n",
        "        seed: int = 777,\n",
        "        # loss parameters\n",
        "        lambda1: float = 1e-3,\n",
        "        lambda2: int = 1.0,\n",
        "    ):\n",
        "        \"\"\"Initialize.\"\"\"\n",
        "        obs_dim = env.observation_space.shape[0]\n",
        "        action_dim = env.action_space.shape[0]\n",
        "\n",
        "        self.env = env\n",
        "        self.batch_size = batch_size\n",
        "        self.gamma = gamma\n",
        "        self.tau = tau\n",
        "        self.initial_random_steps = initial_random_steps\n",
        "        self.seed = seed\n",
        "\n",
        "        # loss parameters\n",
        "        self.lambda1 = lambda1\n",
        "        self.lambda2 = lambda2 / demo_batch_size\n",
        "\n",
        "        # buffer\n",
        "        self.memory = ReplayBuffer(obs_dim, action_dim, memory_size, batch_size)\n",
        "\n",
        "        # demo buffer\n",
        "        self.demo_memory = ReplayBuffer(obs_dim, action_dim, len(demo), demo_batch_size)\n",
        "        self.demo_memory.extend(demo)\n",
        "\n",
        "        # noise\n",
        "        self.noise = OUNoise(\n",
        "            action_dim,\n",
        "            theta=ou_noise_theta,\n",
        "            sigma=ou_noise_sigma,\n",
        "        )\n",
        "\n",
        "        # device: cpu / gpu\n",
        "        self.device = torch.device(\"cuda\" if torch.cuda.is_available() else \"cpu\")\n",
        "        print(self.device)\n",
        "\n",
        "        # networks\n",
        "        self.actor = Actor(obs_dim, action_dim).to(self.device)\n",
        "        self.actor_target = Actor(obs_dim, action_dim).to(self.device)\n",
        "        self.actor_target.load_state_dict(self.actor.state_dict())\n",
        "\n",
        "        self.critic = Critic(obs_dim + action_dim).to(self.device)\n",
        "        self.critic_target = Critic(obs_dim + action_dim).to(self.device)\n",
        "        self.critic_target.load_state_dict(self.critic.state_dict())\n",
        "\n",
        "        # optimizer\n",
        "        self.actor_optimizer = optim.Adam(self.actor.parameters(), lr=3e-4)\n",
        "        self.critic_optimizer = optim.Adam(self.critic.parameters(), lr=1e-3)\n",
        "\n",
        "        # transition to store in memory\n",
        "        self.transition = list()\n",
        "\n",
        "        # total steps count\n",
        "        self.total_step = 0\n",
        "\n",
        "        # mode: train / test\n",
        "        self.is_test = False\n",
        "\n",
        "    def select_action(self, state: np.ndarray) -> np.ndarray:\n",
        "        \"\"\"Select an action from the input state.\"\"\"\n",
        "        # if initial random action should be conducted\n",
        "        if self.total_step < self.initial_random_steps and not self.is_test:\n",
        "            selected_action = self.env.action_space.sample()\n",
        "        else:\n",
        "            selected_action = (\n",
        "                self.actor(torch.FloatTensor(state).to(self.device)).detach().cpu().numpy()\n",
        "            )\n",
        "\n",
        "        # add noise for exploration during training\n",
        "        if not self.is_test:\n",
        "            noise = self.noise.sample()\n",
        "            selected_action = np.clip(selected_action + noise, -1.0, 1.0)\n",
        "\n",
        "        self.transition = [state, selected_action]\n",
        "\n",
        "        return selected_action\n",
        "\n",
        "    def step(self, action: np.ndarray) -> Tuple[np.ndarray, np.float64, bool]:\n",
        "        \"\"\"Take an action and return the response of the env.\"\"\"\n",
        "        next_state, reward, terminated, truncated, _ = self.env.step(action)\n",
        "        done = terminated or truncated\n",
        "\n",
        "        if not self.is_test:\n",
        "            self.transition += [reward, next_state, done]\n",
        "            self.memory.store(*self.transition)\n",
        "\n",
        "        return next_state, reward, done\n",
        "\n",
        "    def update_model(self) -> torch.Tensor:\n",
        "        \"\"\"Update the model by gradient descent.\"\"\"\n",
        "        device = self.device  # for shortening the following lines\n",
        "\n",
        "        # sample from replay buffer\n",
        "        samples = self.memory.sample_batch()\n",
        "        state = torch.FloatTensor(samples[\"obs\"]).to(device)\n",
        "        next_state = torch.FloatTensor(samples[\"next_obs\"]).to(device)\n",
        "        action = torch.FloatTensor(samples[\"acts\"]).to(device)\n",
        "        reward = torch.FloatTensor(samples[\"rews\"].reshape(-1, 1)).to(device)\n",
        "        done = torch.FloatTensor(samples[\"done\"].reshape(-1, 1)).to(device)\n",
        "\n",
        "        # sample from demo buffer\n",
        "        d_samples = self.demo_memory.sample_batch()\n",
        "        d_state = torch.FloatTensor(d_samples[\"obs\"]).to(device)\n",
        "        d_next_state = torch.FloatTensor(d_samples[\"next_obs\"]).to(device)\n",
        "        d_action = torch.FloatTensor(d_samples[\"acts\"]).to(device)\n",
        "        d_reward = torch.FloatTensor(d_samples[\"rews\"].reshape(-1, 1)).to(device)\n",
        "        d_done = torch.FloatTensor(d_samples[\"done\"].reshape(-1, 1)).to(device)\n",
        "\n",
        "        masks = 1 - done\n",
        "        next_action = self.actor_target(next_state)\n",
        "        next_value = self.critic_target(next_state, next_action)\n",
        "        curr_return = reward + self.gamma * next_value * masks\n",
        "        curr_return = curr_return.to(device).detach()\n",
        "\n",
        "        # train critic\n",
        "        values = self.critic(state, action)\n",
        "        critic_loss = F.mse_loss(values, curr_return)\n",
        "\n",
        "        self.critic_optimizer.zero_grad()\n",
        "        critic_loss.backward()\n",
        "        self.critic_optimizer.step()\n",
        "\n",
        "        # train actor\n",
        "        # PG loss\n",
        "        pg_loss = -self.critic(state, self.actor(state)).mean()\n",
        "\n",
        "        # BC loss\n",
        "        pred_action = self.actor(d_state)\n",
        "        qf_mask = torch.gt(\n",
        "            self.critic(d_state, d_action),\n",
        "            self.critic(d_state, pred_action),\n",
        "        ).to(device)\n",
        "        qf_mask = qf_mask.float()\n",
        "        n_qf_mask = int(qf_mask.sum().item())\n",
        "\n",
        "        if n_qf_mask == 0:\n",
        "            bc_loss = torch.zeros((), device=device)\n",
        "        else:\n",
        "            bc_loss = (torch.mul(pred_action, qf_mask) - torch.mul(d_action, qf_mask)).pow(\n",
        "                2\n",
        "            ).sum() / n_qf_mask\n",
        "\n",
        "        actor_loss = self.lambda1 * pg_loss + self.lambda2 * bc_loss\n",
        "\n",
        "        self.actor_optimizer.zero_grad()\n",
        "        actor_loss.backward()\n",
        "        self.actor_optimizer.step()\n",
        "\n",
        "        # target update\n",
        "        self._target_soft_update()\n",
        "\n",
        "        return actor_loss.data, critic_loss.data\n",
        "\n",
        "    def train(self, num_frames: int, plotting_interval: int = 200):\n",
        "        \"\"\"Train the agent.\"\"\"\n",
        "        self.is_test = False\n",
        "\n",
        "        state, _ = self.env.reset(seed=self.seed)\n",
        "        actor_losses = []\n",
        "        critic_losses = []\n",
        "        scores = []\n",
        "        score = 0\n",
        "\n",
        "        for self.total_step in range(1, num_frames + 1):\n",
        "            action = self.select_action(state)\n",
        "            next_state, reward, done = self.step(action)\n",
        "\n",
        "            state = next_state\n",
        "            score += reward\n",
        "\n",
        "            # if episode ends\n",
        "            if done:\n",
        "                state, _ = self.env.reset(seed=self.seed)\n",
        "                scores.append(score)\n",
        "                score = 0\n",
        "\n",
        "            # if training is ready\n",
        "            if len(self.memory) >= self.batch_size and self.total_step > self.initial_random_steps:\n",
        "                actor_loss, critic_loss = self.update_model()\n",
        "                actor_losses.append(actor_loss.cpu().numpy())\n",
        "                critic_losses.append(critic_loss.cpu().numpy())\n",
        "\n",
        "            # plotting\n",
        "            if self.total_step % plotting_interval == 0:\n",
        "                self._plot(\n",
        "                    self.total_step,\n",
        "                    scores,\n",
        "                    actor_losses,\n",
        "                    critic_losses,\n",
        "                )\n",
        "\n",
        "        self.env.close()\n",
        "\n",
        "    def test(self, video_folder: str):\n",
        "        \"\"\"Test the agent.\"\"\"\n",
        "        self.is_test = True\n",
        "\n",
        "        tmp_env = self.env\n",
        "        self.env = gym.wrappers.RecordVideo(self.env, video_folder=video_folder)\n",
        "\n",
        "        state, _ = self.env.reset(seed=self.seed)\n",
        "        done = False\n",
        "        score = 0\n",
        "\n",
        "        while not done:\n",
        "            action = self.select_action(state)\n",
        "            next_state, reward, done = self.step(action)\n",
        "\n",
        "            state = next_state\n",
        "            score += reward\n",
        "\n",
        "        print(\"score: \", score)\n",
        "        self.env.close()\n",
        "\n",
        "        self.env = tmp_env\n",
        "\n",
        "    def _target_soft_update(self):\n",
        "        \"\"\"Soft-update: target = tau*local + (1-tau)*target.\"\"\"\n",
        "        tau = self.tau\n",
        "\n",
        "        for t_param, l_param in zip(self.actor_target.parameters(), self.actor.parameters()):\n",
        "            t_param.data.copy_(tau * l_param.data + (1.0 - tau) * t_param.data)\n",
        "\n",
        "        for t_param, l_param in zip(self.critic_target.parameters(), self.critic.parameters()):\n",
        "            t_param.data.copy_(tau * l_param.data + (1.0 - tau) * t_param.data)\n",
        "\n",
        "    def _plot(\n",
        "        self,\n",
        "        frame_idx: int,\n",
        "        scores: List[float],\n",
        "        actor_losses: List[float],\n",
        "        critic_losses: List[float],\n",
        "    ):\n",
        "        \"\"\"Plot the training progresses.\"\"\"\n",
        "\n",
        "        def subplot(loc: int, title: str, values: List[float]):\n",
        "            plt.subplot(loc)\n",
        "            plt.title(title)\n",
        "            plt.plot(values)\n",
        "\n",
        "        subplot_params = [\n",
        "            (131, f\"frame {frame_idx}. score: {np.mean(scores[-10:])}\", scores),\n",
        "            (132, \"actor_loss\", actor_losses),\n",
        "            (133, \"critic_loss\", critic_losses),\n",
        "        ]\n",
        "\n",
        "        clear_output(True)\n",
        "        plt.figure(figsize=(30, 5))\n",
        "        for loc, title, values in subplot_params:\n",
        "            subplot(loc, title, values)\n",
        "        plt.show()"
      ]
    },
    {
      "cell_type": "markdown",
      "metadata": {
        "id": "ZYNjTOGOgxPL"
      },
      "source": [
        "## Environment\n",
        "*ActionNormalizer* is an action wrapper class to normalize the action values ranged in (-1. 1). Thanks to this class, we can make the agent simply select action values within the zero centered range (-1, 1)."
      ]
    },
    {
      "cell_type": "code",
      "execution_count": 7,
      "metadata": {
        "id": "SGY94asGgxPL"
      },
      "outputs": [],
      "source": [
        "class ActionNormalizer(gym.ActionWrapper):\n",
        "    \"\"\"Rescale and relocate the actions.\"\"\"\n",
        "\n",
        "    def action(self, action: np.ndarray) -> np.ndarray:\n",
        "        \"\"\"Change the range (-1, 1) to (low, high).\"\"\"\n",
        "        low = self.action_space.low\n",
        "        high = self.action_space.high\n",
        "\n",
        "        scale_factor = (high - low) / 2\n",
        "        reloc_factor = high - scale_factor\n",
        "\n",
        "        action = action * scale_factor + reloc_factor\n",
        "        action = np.clip(action, low, high)\n",
        "\n",
        "        return action\n",
        "\n",
        "    def reverse_action(self, action: np.ndarray) -> np.ndarray:\n",
        "        \"\"\"Change the range (low, high) to (-1, 1).\"\"\"\n",
        "        low = self.action_space.low\n",
        "        high = self.action_space.high\n",
        "\n",
        "        scale_factor = (high - low) / 2\n",
        "        reloc_factor = high - scale_factor\n",
        "\n",
        "        action = (action - reloc_factor) / scale_factor\n",
        "        action = np.clip(action, -1.0, 1.0)\n",
        "\n",
        "        return action"
      ]
    },
    {
      "cell_type": "markdown",
      "metadata": {
        "id": "b5836gTOgxPL"
      },
      "source": [
        "You can see [the code](https://github.com/Farama-Foundation/Gymnasium/blob/main/gymnasium/envs/classic_control/pendulum.py) and [configurations](https://github.com/Farama-Foundation/Gymnasium/blob/e73245912087d47b538dcdb45fa9a9d185b805c5/gymnasium/envs/__init__.py#L41) of Pendulum-v1 from Gymnasyim repository."
      ]
    },
    {
      "cell_type": "code",
      "execution_count": 8,
      "metadata": {
        "id": "q-YYv3B-gxPL"
      },
      "outputs": [],
      "source": [
        "# environment\n",
        "env = gym.make(\"Pendulum-v1\", render_mode=\"rgb_array\")\n",
        "env = ActionNormalizer(env)"
      ]
    },
    {
      "cell_type": "markdown",
      "metadata": {
        "id": "5o2h7K2JgxPM"
      },
      "source": [
        "## Set random seed"
      ]
    },
    {
      "cell_type": "code",
      "execution_count": 9,
      "metadata": {
        "id": "E7PmpQRLgxPM"
      },
      "outputs": [],
      "source": [
        "def seed_torch(seed):\n",
        "    torch.manual_seed(seed)\n",
        "    if torch.backends.cudnn.enabled:\n",
        "        torch.backends.cudnn.benchmark = False\n",
        "        torch.backends.cudnn.deterministic = True\n",
        "\n",
        "\n",
        "seed = 777\n",
        "random.seed(seed)\n",
        "np.random.seed(seed)\n",
        "seed_torch(seed)"
      ]
    },
    {
      "cell_type": "markdown",
      "metadata": {
        "id": "LDRZPokZgxPM"
      },
      "source": [
        "## Initialize\n",
        "We make the demonstration using the well-trained agent in advance. (The given demo.pkl is created using *03.DDPG* agent.)"
      ]
    },
    {
      "cell_type": "code",
      "execution_count": 28,
      "metadata": {
        "id": "YY6UEKcdgxPM"
      },
      "outputs": [],
      "source": [
        "import pickle\n",
        "\n",
        "# load demo on replay memory\n",
        "demo_path = \"demo.pkl\"\n",
        "with open(demo_path, \"rb\") as f:\n",
        "    demo = pickle.load(f)"
      ]
    },
    {
      "cell_type": "code",
      "execution_count": 34,
      "metadata": {
        "colab": {
          "base_uri": "https://localhost:8080/"
        },
        "id": "gn7ezCCJgxPM",
        "outputId": "7141f3c0-5b37-4a9b-9b3f-3a097b35c99f"
      },
      "outputs": [
        {
          "output_type": "stream",
          "name": "stdout",
          "text": [
            "cuda\n"
          ]
        }
      ],
      "source": [
        "# parameters\n",
        "num_frames = 50000\n",
        "memory_size = 100000\n",
        "batch_size = 1024\n",
        "demo_batch_size = 128\n",
        "ou_noise_theta = 1.0\n",
        "ou_noise_sigma = 0.1\n",
        "initial_random_steps = 10000\n",
        "\n",
        "agent = BCAgent(\n",
        "    env,\n",
        "    memory_size,\n",
        "    batch_size,\n",
        "    demo_batch_size,\n",
        "    ou_noise_theta,\n",
        "    ou_noise_sigma,\n",
        "    demo,\n",
        "    initial_random_steps=initial_random_steps,\n",
        "    seed=seed,\n",
        ")"
      ]
    },
    {
      "cell_type": "markdown",
      "metadata": {
        "id": "ILk-cZx-gxPM"
      },
      "source": [
        "## Train"
      ]
    },
    {
      "cell_type": "code",
      "execution_count": 35,
      "metadata": {
        "colab": {
          "base_uri": "https://localhost:8080/",
          "height": 354
        },
        "id": "wjVc3CXFgxPM",
        "outputId": "2a2f2701-f34e-46b6-a4ba-52c814b00fd7"
      },
      "outputs": [
        {
          "output_type": "display_data",
          "data": {
            "text/plain": [
              "<Figure size 3000x500 with 3 Axes>"
            ],
            "image/png": "[encoded data removed]"
          },
          "metadata": {}
        }
      ],
      "source": [
        "agent.train(num_frames)"
      ]
    },
    {
      "cell_type": "markdown",
      "metadata": {
        "id": "DS-EGD84gxPM"
      },
      "source": [
        "## Test\n",
        "Run the trained agent (1 episode)."
      ]
    },
    {
      "cell_type": "code",
      "execution_count": 36,
      "metadata": {
        "colab": {
          "base_uri": "https://localhost:8080/"
        },
        "id": "wEVP2Z7FgxPM",
        "outputId": "d02eb2d9-7ad8-487e-c9ac-56972a5018df"
      },
      "outputs": [
        {
          "output_type": "stream",
          "name": "stdout",
          "text": [
            "score:  -129.3357475336719\n"
          ]
        }
      ],
      "source": [
        "# test\n",
        "video_folder = \"videos/bc\"\n",
        "agent.test(video_folder=video_folder)"
      ]
    },
    {
      "cell_type": "markdown",
      "metadata": {
        "id": "LZker-sagxPM"
      },
      "source": [
        "## Render"
      ]
    },
    {
      "cell_type": "code",
      "execution_count": 37,
      "metadata": {
        "colab": {
          "base_uri": "https://localhost:8080/",
          "height": 279
        },
        "id": "3xU7ZiOFgxPM",
        "outputId": "850bc2ae-7af6-48a1-d0ca-303f12aff7ed"
      },
      "outputs": [
        {
          "output_type": "display_data",
          "data": {
            "text/plain": [
              "<IPython.core.display.HTML object>"
            ],
            "text/html": [
              "\n",
              "        <video width=\"320\" height=\"240\" alt=\"test\" controls>\n",
              "        <source src=\"data:video/mp4;base64,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\" type=\"video/mp4\"/>\n",
              "        </video>\n",
              "        "
            ]
          },
          "metadata": {}
        },
        {
          "output_type": "stream",
          "name": "stdout",
          "text": [
            "Played: videos/bc/rl-video-episode-0.mp4\n"
          ]
        }
      ],
      "source": [
        "import base64\n",
        "import glob\n",
        "import io\n",
        "import os\n",
        "\n",
        "from IPython.display import HTML, display\n",
        "\n",
        "\n",
        "def ipython_show_video(path: str) -> None:\n",
        "    \"\"\"Show a video at `path` within IPython Notebook.\"\"\"\n",
        "    if not os.path.isfile(path):\n",
        "        raise NameError(\"Cannot access: {}\".format(path))\n",
        "\n",
        "    video = io.open(path, \"r+b\").read()\n",
        "    encoded = base64.b64encode(video)\n",
        "\n",
        "    display(\n",
        "        HTML(\n",
        "            data=\"\"\"\n",
        "        <video width=\"320\" height=\"240\" alt=\"test\" controls>\n",
        "        <source src=\"data:video/mp4;base64,{0}\" type=\"video/mp4\"/>\n",
        "        </video>\n",
        "        \"\"\".format(\n",
        "                encoded.decode(\"ascii\")\n",
        "            )\n",
        "        )\n",
        "    )\n",
        "\n",
        "\n",
        "def show_latest_video(video_folder: str) -> str:\n",
        "    \"\"\"Show the most recently recorded video from video folder.\"\"\"\n",
        "    list_of_files = glob.glob(os.path.join(video_folder, \"*.mp4\"))\n",
        "    latest_file = max(list_of_files, key=os.path.getctime)\n",
        "    ipython_show_video(latest_file)\n",
        "    return latest_file\n",
        "\n",
        "\n",
        "latest_file = show_latest_video(video_folder=video_folder)\n",
        "print(\"Played:\", latest_file)"
      ]
    },
    {
      "cell_type": "code",
      "execution_count": null,
      "metadata": {
        "id": "DZReasUygxPM"
      },
      "outputs": [],
      "source": []
    }
  ],
  "metadata": {
    "kernelspec": {
      "display_name": "pg-is-all-you-need",
      "language": "python",
      "name": "pg-is-all-you-need"
    },
    "language_info": {
      "codemirror_mode": {
        "name": "ipython",
        "version": 3
      },
      "file_extension": ".py",
      "mimetype": "text/x-python",
      "name": "python",
      "nbconvert_exporter": "python",
      "pygments_lexer": "ipython3",
      "version": "3.6.9"
    },
    "colab": {
      "provenance": [],
      "gpuType": "T4"
    },
    "accelerator": "GPU"
  },
  "nbformat": 4,
  "nbformat_minor": 0
}